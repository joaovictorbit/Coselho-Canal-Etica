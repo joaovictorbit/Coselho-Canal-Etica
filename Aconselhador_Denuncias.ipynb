{
  "nbformat": 4,
  "nbformat_minor": 0,
  "metadata": {
    "colab": {
      "provenance": [],
      "authorship_tag": "ABX9TyNYzBfWMkxzvjFRzoOjoiM1",
      "include_colab_link": true
    },
    "kernelspec": {
      "name": "python3",
      "display_name": "Python 3"
    },
    "language_info": {
      "name": "python"
    }
  },
  "cells": [
    {
      "cell_type": "markdown",
      "metadata": {
        "id": "view-in-github",
        "colab_type": "text"
      },
      "source": [
        "<a href=\"https://colab.research.google.com/github/joaovictorbit/Coselho-Canal-Etica/blob/main/Aconselhador_Denuncias.ipynb\" target=\"_parent\"><img src=\"https://colab.research.google.com/assets/colab-badge.svg\" alt=\"Open In Colab\"/></a>"
      ]
    },
    {
      "cell_type": "code",
      "source": [
        "#Biblioteca para converter o pdf em txt\n",
        "!pip install pymupdf requests"
      ],
      "metadata": {
        "colab": {
          "base_uri": "https://localhost:8080/"
        },
        "collapsed": true,
        "id": "S9RQ_-1AHRwD",
        "outputId": "c0962fec-b5a9-4bbf-fa50-dc8ff5eb0274"
      },
      "execution_count": 2,
      "outputs": [
        {
          "output_type": "stream",
          "name": "stdout",
          "text": [
            "Collecting pymupdf\n",
            "  Downloading pymupdf-1.25.4-cp39-abi3-manylinux2014_x86_64.manylinux_2_17_x86_64.whl.metadata (3.4 kB)\n",
            "Requirement already satisfied: requests in /usr/local/lib/python3.11/dist-packages (2.32.3)\n",
            "Requirement already satisfied: charset-normalizer<4,>=2 in /usr/local/lib/python3.11/dist-packages (from requests) (3.4.1)\n",
            "Requirement already satisfied: idna<4,>=2.5 in /usr/local/lib/python3.11/dist-packages (from requests) (3.10)\n",
            "Requirement already satisfied: urllib3<3,>=1.21.1 in /usr/local/lib/python3.11/dist-packages (from requests) (2.3.0)\n",
            "Requirement already satisfied: certifi>=2017.4.17 in /usr/local/lib/python3.11/dist-packages (from requests) (2025.1.31)\n",
            "Downloading pymupdf-1.25.4-cp39-abi3-manylinux2014_x86_64.manylinux_2_17_x86_64.whl (20.0 MB)\n",
            "\u001b[2K   \u001b[90m━━━━━━━━━━━━━━━━━━━━━━━━━━━━━━━━━━━━━━━━\u001b[0m \u001b[32m20.0/20.0 MB\u001b[0m \u001b[31m54.1 MB/s\u001b[0m eta \u001b[36m0:00:00\u001b[0m\n",
            "\u001b[?25hInstalling collected packages: pymupdf\n",
            "Successfully installed pymupdf-1.25.4\n"
          ]
        }
      ]
    },
    {
      "cell_type": "code",
      "execution_count": 3,
      "metadata": {
        "collapsed": true,
        "id": "eqAEAQX1E7NQ"
      },
      "outputs": [],
      "source": [
        "import os\n",
        "import requests\n",
        "import fitz  # PyMuPDF\n",
        "\n",
        "# URL do arquivo na web\n",
        "url = \"https://api.mziq.com/mzfilemanager/v2/d/dd835c95-0412-4284-82db-dae5784acebc/af30e8c5-067e-1519-e2c9-464300be2435?origin=1\"\n",
        "\n",
        "# Nome do arquivo PDF a ser salvo\n",
        "pdf_filename = \"downloaded_file.pdf\"\n",
        "txt_filename = \"converted_text.txt\"\n",
        "\n",
        "# Baixar o arquivo\n",
        "response = requests.get(url)\n",
        "response.raise_for_status()  # Garante que o download foi bem-sucedido\n",
        "\n",
        "# Salvar o arquivo PDF localmente\n",
        "with open(pdf_filename, \"wb\") as file:\n",
        "    file.write(response.content)\n",
        "\n",
        "# Converter PDF para texto\n",
        "pdf_document = fitz.open(pdf_filename)\n",
        "text = \"\\n\".join(page.get_text(\"text\") for page in pdf_document)\n",
        "pdf_document.close()\n",
        "\n",
        "# Salvar o texto extraído em um arquivo .txt\n",
        "with open(txt_filename, \"w\", encoding=\"utf-8\") as file:\n",
        "    file.write(text)\n",
        "\n",
        "# Ler o arquivo salvo e armazenar o conteúdo em uma variável\n",
        "with open(txt_filename, \"r\", encoding=\"utf-8\") as file:\n",
        "    content = file.read().strip()\n"
      ]
    },
    {
      "cell_type": "code",
      "source": [
        "# Baixar biblioteca Gemini\n",
        "!pip install -q -U google-generativeai"
      ],
      "metadata": {
        "id": "M8DcezxNF7FV"
      },
      "execution_count": 4,
      "outputs": []
    },
    {
      "cell_type": "code",
      "source": [
        "from google import genai\n",
        "from google.colab import userdata\n",
        "\n",
        "#Denuncia\n",
        "denuncia='Acredito que um funcionario esta roubando as peças de roupa no centro de distribuição, ele semana passada, ele postou uma foto no instagram com uma roupa que não lancou na loja ainda'\n",
        "\n",
        "#Conectar a API do Germini\n",
        "GOOGLE_API_KEY=userdata.get('GOOGLE_API_KEY')\n",
        "client = genai.Client(api_key=GOOGLE_API_KEY)\n",
        "\n",
        "# Prompt\n",
        "response = client.models.generate_content(\n",
        "    model=\"gemini-2.0-flash\",\n",
        "    contents=f'A partir do nosso codigo de etica:{content}, seja o nosso analista de compliance especializado em investigação de denuncias do nosso canal de etica. Leia a denuncia a seguir e aconselhe,linguagem mais clara possivel, a pessoa que relatou, caso a denuncia precise de mais detalhes para melhorar a investigação e se essa denuncia cabe ou não para ser denunciado no canal de etica, seja objetivo e só resposda se cabe ou não a denuncia e quais informações são necessarias para investigação, caso precise, segue a denuncia:{denuncia}',\n",
        ")\n",
        "response2 = client.models.generate_content(\n",
        "    model=\"gemini-2.0-flash\",\n",
        "    contents=f'\\n \\n A partir do nosso codigo de etica:{content}, seja o nosso analista de compliance especializado em investigação de denuncias do nosso canal de etica.De uma resumo de no maximo 10 palavras sobre o relato e avalie o grau de criticidade dele de 0 a 10, sendo 0 um relato não relacionado ao compliance e 10 algo urgente que tem que ser rapidamente investigado pois compromete a empresa, segue a denuncia:{denuncia}',\n",
        ")\n",
        "print(response.text)\n",
        "\n",
        "print(response2.text)\n"
      ],
      "metadata": {
        "colab": {
          "base_uri": "https://localhost:8080/"
        },
        "id": "zRgtAHdbGBmM",
        "outputId": "41115d6d-90f2-41f6-ad2b-14ee78d83c2f"
      },
      "execution_count": 5,
      "outputs": [
        {
          "output_type": "stream",
          "name": "stdout",
          "text": [
            "## Análise da Denúncia e Aconselhamento\n",
            "\n",
            "**Cabe a denúncia no Canal de Ética?**\n",
            "\n",
            "Sim, a denúncia cabe no Canal de Ética, pois envolve suspeita de roubo, o que configura uma violação do código de ética da empresa.\n",
            "\n",
            "**Informações Necessárias para Investigação:**\n",
            "\n",
            "Para que a investigação seja eficaz, é crucial obter mais detalhes sobre a denúncia. Recomenda-se que a pessoa que relatou forneça as seguintes informações:\n",
            "\n",
            "*   **Nome do funcionário suspeito:** A identificação do funcionário é fundamental para iniciar a investigação.\n",
            "*   **Detalhes da foto no Instagram:**\n",
            "    *   Data da postagem.\n",
            "    *   Nome do perfil do Instagram onde a foto foi postada.\n",
            "    *   Descrição da roupa (cor, estilo, etc.).\n",
            "    *   Se possível, um print da tela da foto.\n",
            "*   **Outras informações relevantes:**\n",
            "    *   Qualquer comportamento suspeito do funcionário observado.\n",
            "    *   Se outras pessoas notaram o mesmo.\n",
            "    *   Qualquer outra informação que possa corroborar a suspeita de roubo.\n",
            "\n",
            "**Aconselhamento para a pessoa que relatou:**\n",
            "\n",
            "1.  **Reúna o máximo de informações:** Tente coletar o máximo de detalhes possível sobre o caso (nome do funcionário, detalhes da foto, etc.).\n",
            "2.  **Registre tudo:** Anote todas as informações que você possui de forma clara e organizada.\n",
            "3.  **Acesse o Canal de Ética:** Utilize o Canal de Ética da empresa para registrar a denúncia. Seja o mais detalhado possível ao descrever a situação, incluindo todas as informações coletadas.\n",
            "4.  **Mantenha a confidencialidade:** Evite comentar sobre a denúncia com outras pessoas para não comprometer a investigação.\n",
            "5.  **Esteja disponível:** Caso o setor de compliance entre em contato, esteja disponível para fornecer mais informações e esclarecimentos.\n",
            "\n",
            "Ao fornecer informações detalhadas e seguir esses passos, você estará contribuindo para uma investigação eficaz e para a manutenção de um ambiente de trabalho ético e íntegro.\n",
            "\n",
            "**Resumo:** Furto de peças de roupa por funcionário no CD.\n",
            "\n",
            "**Criticidade:** 8\n",
            "\n"
          ]
        }
      ]
    }
  ]
}